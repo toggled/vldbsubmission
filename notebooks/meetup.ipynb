{
 "cells": [
  {
   "cell_type": "code",
   "execution_count": 1,
   "id": "7893ed10-4330-4fb5-905f-d09e9dcfaecd",
   "metadata": {},
   "outputs": [],
   "source": [
    "import pandas as pd\n",
    "import matplotlib.pyplot as plt\n",
    "%matplotlib inline\n",
    "import seaborn as sns\n",
    "import numpy as np\n",
    "import os\n",
    "import shutil"
   ]
  },
  {
   "cell_type": "code",
   "execution_count": 3,
   "id": "9330aa4e-cef1-4469-8c3a-a23dba0d87db",
   "metadata": {},
   "outputs": [],
   "source": [
    "path = '../data/datasets/meetup/'\n",
    "events = os.path.join(path,'meta-events.csv')\n",
    "members = os.path.join(path,'meta-members.csv')\n",
    "rsvps = os.path.join(path,'rsvps.csv')\n",
    "df_e =  pd.read_csv(events)\n",
    "df_m = pd.read_csv(members)\n",
    "df_r = pd.read_csv(rsvps)\n",
    "hyperedges = {}"
   ]
  },
  {
   "cell_type": "code",
   "execution_count": 37,
   "id": "a404f216-214c-404f-a460-8991797984b4",
   "metadata": {},
   "outputs": [],
   "source": [
    "event_names = {}\n",
    "for f in df_e.iterrows():\n",
    "    e_id = f[1][0]\n",
    "    e_name = f[1][2]\n",
    "    event_names[e_id] = e_name"
   ]
  },
  {
   "cell_type": "code",
   "execution_count": 33,
   "id": "4ecb0ba1-645d-4141-90ed-9c95d1835f10",
   "metadata": {},
   "outputs": [],
   "source": [
    "member_names = {}\n",
    "for f in df_m.iterrows():\n",
    "    m_id = f[1][0]\n",
    "    m_name = f[1][1]\n",
    "    member_names[m_id] = m_name"
   ]
  },
  {
   "cell_type": "code",
   "execution_count": 23,
   "id": "25660270-2b7b-4cff-ad31-8c9e489e71e6",
   "metadata": {},
   "outputs": [],
   "source": [
    "attend_dict = {}\n",
    "for f in df_r.iterrows():\n",
    "    # print(f)\n",
    "    ev_id = f[1][1]\n",
    "    m_id = f[1][2]\n",
    "    attend_dict[ev_id] = attend_dict.get(ev_id,[])+[m_id]\n",
    "for f in df_m.iterrows():\n",
    "    m_id = f[1][1]\n",
    "    m_name = f[1][2]\n",
    "    print(m_id, ' ',m_name)"
   ]
  },
  {
   "cell_type": "code",
   "execution_count": 49,
   "id": "7be5fef3-68c7-4736-82a8-b186c6b40916",
   "metadata": {},
   "outputs": [
    {
     "name": "stdout",
     "output_type": "stream",
     "text": [
      "hyperedges:  6713\n"
     ]
    }
   ],
   "source": [
    "count=0\n",
    "max_participants = 4\n",
    "min_participants = 2\n",
    "evids = []\n",
    "evnames = []\n",
    "partids = []\n",
    "partnames = []\n",
    "from Hypergraph import Hypergraph\n",
    "for ev_id,v in attend_dict.items():\n",
    "    if len(v)>=min_participants and len(v)<=max_participants:\n",
    "        evids.append(ev_id)\n",
    "        evnames.append(event_names[ev_id])\n",
    "        partids.append(v)\n",
    "        \n",
    "        pnames = [member_names.get(x,\"None\") for x in v]\n",
    "        partnames.append(pnames)\n",
    "        count+=1\n",
    "        # print('event: ', event_names[ev_id],' participants: ',v,' names: ',pnames)\n",
    "print(\"hyperedges: \",count)\n",
    "H = Hypergraph({x: v for x,v in enumerate(partids)})"
   ]
  },
  {
   "cell_type": "code",
   "execution_count": 54,
   "id": "aa0a841e-5484-4629-bc46-d403e6183f8f",
   "metadata": {},
   "outputs": [
    {
     "name": "stdout",
     "output_type": "stream",
     "text": [
      "N =  5669\n",
      "E=  6713\n"
     ]
    }
   ],
   "source": [
    "print('N = ',len(H.nodes()))\n",
    "print('E= ',len(H.edges()))"
   ]
  },
  {
   "cell_type": "code",
   "execution_count": 146,
   "id": "8c01b5ba-3e0e-4b7e-b38c-28de36642765",
   "metadata": {},
   "outputs": [
    {
     "name": "stdout",
     "output_type": "stream",
     "text": [
      "210704000\n",
      "[2122, 225, 2123, 2124]   [[210704000, 3723852, 74011552, 10119159], [39303612, 235761200, 3723852, 185129727], [3723852, 10119159], [3723852, 10119159]]\n",
      "206494253\n"
     ]
    },
    {
     "ename": "KeyboardInterrupt",
     "evalue": "",
     "output_type": "error",
     "traceback": [
      "\u001b[1;31m---------------------------------------------------------------------------\u001b[0m",
      "\u001b[1;31mIndexError\u001b[0m                                Traceback (most recent call last)",
      "\u001b[1;32m~\\AppData\\Local\\Temp\\ipykernel_20632\\607355955.py\u001b[0m in \u001b[0;36mgenerate_randomE\u001b[1;34m(num, max_e)\u001b[0m\n\u001b[0;32m     25\u001b[0m                             \u001b[1;32mtry\u001b[0m\u001b[1;33m:\u001b[0m\u001b[1;33m\u001b[0m\u001b[1;33m\u001b[0m\u001b[0m\n\u001b[1;32m---> 26\u001b[1;33m                                 \u001b[0mseednode\u001b[0m \u001b[1;33m=\u001b[0m \u001b[0mseeds\u001b[0m\u001b[1;33m[\u001b[0m\u001b[1;36m0\u001b[0m\u001b[1;33m]\u001b[0m\u001b[1;33m\u001b[0m\u001b[1;33m\u001b[0m\u001b[0m\n\u001b[0m\u001b[0;32m     27\u001b[0m                             \u001b[1;32mexcept\u001b[0m \u001b[0mException\u001b[0m \u001b[1;32mas\u001b[0m \u001b[0me\u001b[0m\u001b[1;33m:\u001b[0m\u001b[1;33m\u001b[0m\u001b[1;33m\u001b[0m\u001b[0m\n",
      "\u001b[1;31mIndexError\u001b[0m: list index out of range",
      "\nDuring handling of the above exception, another exception occurred:\n",
      "\u001b[1;31mKeyboardInterrupt\u001b[0m                         Traceback (most recent call last)",
      "\u001b[1;32m~\\AppData\\Local\\Temp\\ipykernel_20632\\607355955.py\u001b[0m in \u001b[0;36m<module>\u001b[1;34m\u001b[0m\n\u001b[0;32m     33\u001b[0m             \u001b[0mprint\u001b[0m\u001b[1;33m(\u001b[0m\u001b[0msubedges\u001b[0m\u001b[1;33m,\u001b[0m \u001b[1;34m' '\u001b[0m\u001b[1;33m,\u001b[0m\u001b[1;33m[\u001b[0m\u001b[0mH\u001b[0m\u001b[1;33m.\u001b[0m\u001b[0mget_edge_byindex\u001b[0m\u001b[1;33m(\u001b[0m\u001b[0me\u001b[0m\u001b[1;33m)\u001b[0m \u001b[1;32mfor\u001b[0m \u001b[0me\u001b[0m \u001b[1;32min\u001b[0m \u001b[0msubedges\u001b[0m\u001b[1;33m]\u001b[0m\u001b[1;33m)\u001b[0m\u001b[1;33m\u001b[0m\u001b[1;33m\u001b[0m\u001b[0m\n\u001b[0;32m     34\u001b[0m         \u001b[0mcnt\u001b[0m\u001b[1;33m+=\u001b[0m\u001b[1;36m1\u001b[0m\u001b[1;33m\u001b[0m\u001b[1;33m\u001b[0m\u001b[0m\n\u001b[1;32m---> 35\u001b[1;33m \u001b[0mgenerate_randomE\u001b[0m\u001b[1;33m(\u001b[0m\u001b[1;33m)\u001b[0m\u001b[1;33m\u001b[0m\u001b[1;33m\u001b[0m\u001b[0m\n\u001b[0m",
      "\u001b[1;32m~\\AppData\\Local\\Temp\\ipykernel_20632\\607355955.py\u001b[0m in \u001b[0;36mgenerate_randomE\u001b[1;34m(num, max_e)\u001b[0m\n\u001b[0;32m     25\u001b[0m                             \u001b[1;32mtry\u001b[0m\u001b[1;33m:\u001b[0m\u001b[1;33m\u001b[0m\u001b[1;33m\u001b[0m\u001b[0m\n\u001b[0;32m     26\u001b[0m                                 \u001b[0mseednode\u001b[0m \u001b[1;33m=\u001b[0m \u001b[0mseeds\u001b[0m\u001b[1;33m[\u001b[0m\u001b[1;36m0\u001b[0m\u001b[1;33m]\u001b[0m\u001b[1;33m\u001b[0m\u001b[1;33m\u001b[0m\u001b[0m\n\u001b[1;32m---> 27\u001b[1;33m                             \u001b[1;32mexcept\u001b[0m \u001b[0mException\u001b[0m \u001b[1;32mas\u001b[0m \u001b[0me\u001b[0m\u001b[1;33m:\u001b[0m\u001b[1;33m\u001b[0m\u001b[1;33m\u001b[0m\u001b[0m\n\u001b[0m\u001b[0;32m     28\u001b[0m                                 \u001b[1;32mbreak\u001b[0m\u001b[1;33m\u001b[0m\u001b[1;33m\u001b[0m\u001b[0m\n\u001b[0;32m     29\u001b[0m                         \u001b[1;32melse\u001b[0m\u001b[1;33m:\u001b[0m\u001b[1;33m\u001b[0m\u001b[1;33m\u001b[0m\u001b[0m\n",
      "\u001b[1;31mKeyboardInterrupt\u001b[0m: "
     ]
    }
   ],
   "source": [
    "import random\n",
    "N = len(H.init_nodes)\n",
    "\n",
    "def generate_randomE(num=1000, max_e = 4):\n",
    "    cnt = 0\n",
    "    while cnt <num:\n",
    "        for i in range(num):\n",
    "            count = 0\n",
    "            subedges = []\n",
    "            x = random.randint(0,N-1)\n",
    "            seednode = H.init_nodes[x]\n",
    "            print(seednode)\n",
    "            visited = {}\n",
    "            while count<max_e:\n",
    "                visited[seednode] = True\n",
    "                seed_candidates = []\n",
    "                for e_id in H.inc_dict[seednode]:\n",
    "                    seed_candidates+= H.get_edge_byindex(e_id)\n",
    "                    if count<max_e and e_id not in subedges:\n",
    "                        subedges.append(e_id)\n",
    "                        count+=1\n",
    "                    else:\n",
    "                        seeds = list(set(seed_candidates)-set(visited.keys()))\n",
    "                        if (len(seeds)<=1):\n",
    "                            try:\n",
    "                                seednode = seeds[0]\n",
    "                            except Exception as e:\n",
    "                                break\n",
    "                        else:\n",
    "                            seednode = seeds[random.randint(0,len(seeds)-1)]\n",
    "                # else:\n",
    "                #     break\n",
    "            print(subedges, ' ',[H.get_edge_byindex(e) for e in subedges])\n",
    "        cnt+=1\n",
    "generate_randomE()"
   ]
  }
 ],
 "metadata": {
  "kernelspec": {
   "display_name": "Python 3 (ipykernel)",
   "language": "python",
   "name": "python3"
  },
  "language_info": {
   "codemirror_mode": {
    "name": "ipython",
    "version": 3
   },
   "file_extension": ".py",
   "mimetype": "text/x-python",
   "name": "python",
   "nbconvert_exporter": "python",
   "pygments_lexer": "ipython3",
   "version": "3.9.13"
  }
 },
 "nbformat": 4,
 "nbformat_minor": 5
}
