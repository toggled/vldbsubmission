{
 "cells": [
  {
   "cell_type": "code",
   "execution_count": 1,
   "metadata": {},
   "outputs": [],
   "source": [
    "import pandas as pd\n",
    "import seaborn as sns\n",
    "import matplotlib.pyplot as plt\n",
    "import numpy as np\n",
    "import os\n",
    "from ast import literal_eval\n",
    "import shutil\n",
    "import matplotlib.ticker as ticker\n",
    "\n",
    "\n",
    "\n",
    "output_folder = '../output/'\n",
    "fontsize = 18\n",
    "labelsize = 14"
   ]
  },
  {
   "cell_type": "code",
   "execution_count": 6,
   "metadata": {},
   "outputs": [
    {
     "name": "stdout",
     "output_type": "stream",
     "text": [
      "dblp_prev_infected_degree_range.pdf\n"
     ]
    },
    {
     "data": {
      "image/png": "[encoded data removed]",
      "text/plain": [
       "<Figure size 720x288 with 1 Axes>"
      ]
     },
     "metadata": {},
     "output_type": "display_data"
    },
    {
     "data": {
      "text/plain": [
       "<Figure size 432x288 with 0 Axes>"
      ]
     },
     "metadata": {},
     "output_type": "display_data"
    }
   ],
   "source": [
    "final_legend_dic = {\n",
    "    'nbr': 'Nbr',\n",
    "    'degree': 'Degree',\n",
    "    'clique': 'Clique',\n",
    "    'kd': '(k, d)',\n",
    "    \"dk\": '(d, k)'\n",
    "}\n",
    "\n",
    "save = True\n",
    "\n",
    "\n",
    "dataset = \"dblp\"\n",
    "processed_filename = '../output/processed_propagation_result_prev_9a_' + dataset + '.csv'\n",
    "processed_filename = '../output/processed_propagation_result_prev_9a_' + dataset + '.csv'\n",
    "result_df = pd.read_csv(processed_filename)\n",
    "result_df = result_df[result_df['algo'] != 'kd']\n",
    "result_df['algo'] = result_df['algo'].replace(final_legend_dic)\n",
    "for y_var in ['infected', 'neighbors'][:1]:\n",
    "\n",
    "    # if(dataset == \"dblp\"):\n",
    "    #     result_df = result_df[result_df['seed size'] >= 300]\n",
    "    \n",
    "    sns.set_style(\"dark\", {'axes.grid' : True})\n",
    "    plt.style.use('grayscale')\n",
    "\n",
    "    hatch_dict = {\n",
    "        'Nbr': \"O\",\n",
    "        '(k, d)': '.',\n",
    "        'Clique': 'x',\n",
    "        'Degree': '*'\n",
    "    }\n",
    "\n",
    "    include_algos = ['Clique', 'Degree', 'Nbr', '(k, d)'][:3]\n",
    "    \n",
    "    fig, ax = plt.subplots(figsize=(10, 4))\n",
    "    bar = sns.barplot(x='core number', y=y_var, hue='algo', hue_order=include_algos, data=result_df[result_df['core number'] <= 13], color='k')\n",
    "    plt.xlabel('Core-number of seed nodes', fontsize=fontsize-2)\n",
    "    plt.ylabel(\"#avg infected nodes\", fontsize=fontsize-2)\n",
    "    ax.yaxis.set_major_formatter(ticker.FuncFormatter(lambda x, pos: '{:,.0f}'.format(x/1000) + 'K'))\n",
    "    # ax.xaxis.set_major_formatter(ticker.FuncFormatter(lambda x, pos: '{:,.0f}'.format(x/1000) + 'K'))\n",
    "    plt.xticks(fontsize=fontsize-2)\n",
    "    # plt.yticks([0, 2000, 4000, 6000, 8000], fontsize=fontsize-2)\n",
    "    plt.legend(loc='upper center', bbox_to_anchor=(\n",
    "        0.5, 1.3), ncol=4, fancybox=False, shadow=True, fontsize=labelsize-2, columnspacing=0.8)\n",
    "\n",
    "    # h = itertools.cycle([hatch_dict[i] for i in include_algos])\n",
    "    # for i,thisbar in enumerate(bar.patches):\n",
    "    #     if i%len(include_algos)==0:\n",
    "    #         hatch = next(h)\n",
    "    #     thisbar.set_hatch(hatch)\n",
    "\n",
    "\n",
    "    plt.tight_layout()\n",
    "    filename = dataset + \"_prev_\" + y_var + \"_degree_range.pdf\"\n",
    "    print(filename)\n",
    "    if(save):\n",
    "        plt.savefig(\"../fig/\" + filename)\n",
    "        plt.show()\n",
    "    plt.clf()\n",
    "    # break"
   ]
  },
  {
   "cell_type": "code",
   "execution_count": 30,
   "metadata": {},
   "outputs": [
    {
     "name": "stdout",
     "output_type": "stream",
     "text": [
      "1 -6.49\n",
      "2 -25.55\n",
      "3 18.63\n",
      "4 51.45\n",
      "5 40.56\n",
      "6 71.14\n",
      "7 121.53\n",
      "8 40.74\n",
      "9 193.84\n",
      "10 215.22\n",
      "11 245.03\n",
      "12 316.28\n",
      "13 -85.62\n",
      "14 -275.34\n",
      "15 -284.09\n",
      "16 -333.37\n",
      "17 -507.97\n",
      "18 -445.44\n",
      "19 -535.02\n",
      "20 -474.82\n",
      "21 -570.72\n",
      "22 -618.09\n",
      "23 -709.86\n",
      "24 -672.96\n",
      "25 -696.63\n",
      "26 -733.78\n",
      "27 -871.31\n",
      "28 -720.04\n",
      "29 -507.53\n",
      "30 -851.24\n",
      "31 -908.82\n",
      "32 -588.85\n",
      "33 -1000.13\n",
      "34 -1243.08\n",
      "35 -629.41\n",
      "36 -535.6\n",
      "37 -1082.19\n",
      "38 -1024.08\n",
      "39 5.54\n",
      "40 -22.34\n",
      "41 -26.57\n",
      "42 25.28\n",
      "43 -24.08\n",
      "44 3.13\n",
      "45 -20.96\n",
      "46 10.18\n",
      "47 -14.28\n",
      "48 5.71\n",
      "49 -244.12\n",
      "50 -606.69\n",
      "51 53.82\n",
      "52 0.87\n",
      "53 -0.42\n",
      "54 6.21\n",
      "55 14.99\n",
      "56 -40.85\n",
      "58 2.91\n",
      "59 4.74\n",
      "60 4.75\n",
      "61 2.18\n",
      "63 6.25\n",
      "64 67.5\n",
      "66 5.11\n",
      "68 21.29\n",
      "69 -3.73\n",
      "70 13.77\n",
      "71 42.74\n",
      "72 15.04\n",
      "73 -873.84\n",
      "75 9.84\n",
      "77 58.82\n",
      "84 -2.21\n",
      "88 -15.28\n",
      "89 -6.16\n",
      "90 0.86\n",
      "93 4.25\n",
      "94 -3.85\n",
      "101 -3.68\n",
      "111 -24.73\n",
      "113 16.53\n",
      "135 23.24\n",
      "252 4.36\n",
      "279 6.63\n"
     ]
    }
   ],
   "source": [
    "for key, item in result_df.groupby(['core number'], as_index=False):\n",
    "    if(item[item['algo'] == 'Nbr'].shape[0] == 0):\n",
    "        continue\n",
    "    infected_clique = item[item['algo'] == 'Clique']['infected'].mean()\n",
    "    infected_nbr = item[item['algo'] == 'Nbr']['infected'].mean()\n",
    "    infected_degree = item[item['algo'] == 'Degree']['infected'].mean()\n",
    "    # print(key, round(infected_nbr - infected_degree, 2))\n",
    "    print(key, round(infected_nbr - infected_clique, 2))\n",
    "    # if(infected_degree <= infected_nbr):\n",
    "    #     # print(key, round(infected_nbr, 2), round(infected_clique, 2))\n",
    "    #     # print(key, round(infected_nbr - infected_clique, 2))\n",
    "    #     print(key, round(infected_nbr - infected_clique, 2))\n",
    "    #     print(key)\n",
    "    # else:\n",
    "    #     print(key)\n",
    "    #     # print(key, round(infected_nbr - infected_clique, 2))"
   ]
  },
  {
   "cell_type": "code",
   "execution_count": 9,
   "metadata": {},
   "outputs": [
    {
     "name": "stdout",
     "output_type": "stream",
     "text": [
      "dblp_prev_infected_nbr_range.pdf\n"
     ]
    },
    {
     "data": {
      "image/png": "[encoded data removed]",
      "text/plain": [
       "<Figure size 720x288 with 1 Axes>"
      ]
     },
     "metadata": {},
     "output_type": "display_data"
    },
    {
     "data": {
      "text/plain": [
       "<Figure size 432x288 with 0 Axes>"
      ]
     },
     "metadata": {},
     "output_type": "display_data"
    }
   ],
   "source": [
    "for y_var in ['infected', 'neighbors'][:1]:\n",
    "\n",
    "    # if(dataset == \"dblp\"):\n",
    "    #     result_df = result_df[result_df['seed size'] >= 300]\n",
    "    \n",
    "    sns.set_style(\"dark\", {'axes.grid' : True})\n",
    "    plt.style.use('grayscale')\n",
    "\n",
    "    hatch_dict = {\n",
    "        'Nbr': \"O\",\n",
    "        '(k, d)': '.',\n",
    "        'Clique': 'x',\n",
    "        'Degree': '*'\n",
    "    }\n",
    "\n",
    "    include_algos = ['Clique', 'Degree', 'Nbr', '(k, d)'][:3]\n",
    "    \n",
    "    fig, ax = plt.subplots(figsize=(10, 4))\n",
    "    bar = sns.barplot(x='core number', y=y_var, hue='algo', hue_order=include_algos, data=result_df[(result_df['core number'] >= 77)], color='k')\n",
    "    plt.xlabel('Core-number of seed nodes', fontsize=fontsize-2)\n",
    "    plt.ylabel(\"#avg infected nodes\", fontsize=fontsize-2)\n",
    "    ax.yaxis.set_major_formatter(ticker.FuncFormatter(lambda x, pos: '{:,.0f}'.format(x/1000) + 'K'))\n",
    "    # ax.xaxis.set_major_formatter(ticker.FuncFormatter(lambda x, pos: '{:,.0f}'.format(x/1000) + 'K'))\n",
    "    plt.xticks(fontsize=fontsize-2)\n",
    "    # plt.yticks([0, 2000, 4000, 6000, 8000], fontsize=fontsize-2)\n",
    "    plt.legend(loc='upper center', bbox_to_anchor=(\n",
    "        0.5, 1.3), ncol=4, fancybox=False, shadow=True, fontsize=labelsize-2, columnspacing=0.8)\n",
    "\n",
    "    # h = itertools.cycle([hatch_dict[i] for i in include_algos])\n",
    "    # for i,thisbar in enumerate(bar.patches):\n",
    "    #     if i%len(include_algos)==0:\n",
    "    #         hatch = next(h)\n",
    "    #     thisbar.set_hatch(hatch)\n",
    "\n",
    "\n",
    "    plt.tight_layout()\n",
    "    filename = dataset + \"_prev_\" + y_var + \"_nbr_range.pdf\"\n",
    "    print(filename)\n",
    "    if(save):\n",
    "        plt.savefig(\"../fig/\" + filename)\n",
    "        plt.show()\n",
    "    plt.clf()\n",
    "    # break"
   ]
  },
  {
   "cell_type": "code",
   "execution_count": null,
   "metadata": {},
   "outputs": [],
   "source": []
  }
 ],
 "metadata": {
  "kernelspec": {
   "display_name": "base",
   "language": "python",
   "name": "python3"
  },
  "language_info": {
   "codemirror_mode": {
    "name": "ipython",
    "version": 3
   },
   "file_extension": ".py",
   "mimetype": "text/x-python",
   "name": "python",
   "nbconvert_exporter": "python",
   "pygments_lexer": "ipython3",
   "version": "3.8.8"
  },
  "orig_nbformat": 4,
  "vscode": {
   "interpreter": {
    "hash": "96dea8c3af5655416b0c3cfffd9744e3385abd3a6bc068a46f05596f1ac415e3"
   }
  }
 },
 "nbformat": 4,
 "nbformat_minor": 2
}
