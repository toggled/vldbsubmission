{
 "cells": [
  {
   "cell_type": "code",
   "execution_count": 6,
   "metadata": {},
   "outputs": [],
   "source": [
    "def get_nodes(dataset, algo, num_delete):\n",
    "    index = 1\n",
    "    neighbor_data_filename = \"sirdata_naheed_vai/\" + \\\n",
    "                algo + \"_\" + dataset + \"_h\" + str(index) + \"_\" + \\\n",
    "                str(num_delete) + \".csv\"\n",
    "\n",
    "    # get neighborhood information\n",
    "    nodes = {}\n",
    "    with open(neighbor_data_filename) as file:\n",
    "        for line in file:\n",
    "            vs = line.strip().split(\",\")\n",
    "            assert int(vs[0]) not in nodes\n",
    "            nodes[int(vs[0])] = True\n",
    "            # neighbor[int(vs[0])] = list(map(int, vs[1:]))\n",
    "            # for u in neighbor[int(vs[0])]:\n",
    "            #     assert type(u) == int\n",
    "    \n",
    "    return nodes\n",
    "\n",
    "dataset = \"dblp\"\n",
    "num_delete = -1\n",
    "nodes_graph = get_nodes(dataset, \"graph_core\", num_delete)\n",
    "nodes_nbr = get_nodes(dataset, \"naive_nbr\", num_delete)\n",
    "nodes_degree = get_nodes(dataset, \"naive_degree\", num_delete)"
   ]
  },
  {
   "cell_type": "code",
   "execution_count": 10,
   "metadata": {},
   "outputs": [],
   "source": [
    "common_nodes = set(nodes_nbr.keys()).intersection(\n",
    "    set(nodes_degree.keys()).intersection(\n",
    "        set(nodes_graph.keys())\n",
    "    )\n",
    ")"
   ]
  },
  {
   "cell_type": "code",
   "execution_count": 13,
   "metadata": {},
   "outputs": [],
   "source": [
    "def get_core(filename):\n",
    "    # get core information\n",
    "    core_to_vertex_map = {}\n",
    "    distinct_cores = []\n",
    "    with open(filename) as file:\n",
    "        for line in file:\n",
    "            vs = line.strip().split(\",\")\n",
    "            vs = list(map(int, vs))\n",
    "            if(vs[1] not in core_to_vertex_map):\n",
    "                distinct_cores.append(vs[1])\n",
    "                core_to_vertex_map[vs[1]] = [vs[0]]\n",
    "            else:\n",
    "                core_to_vertex_map[vs[1]].append(vs[0])\n",
    "    # print(core_to_vertex_map)\n",
    "\n",
    "    distinct_cores.sort(reverse=True)\n",
    "    return core_to_vertex_map, distinct_cores\n",
    "\n",
    "\n",
    "core_nbr, distinct_core_nbr = get_core(\n",
    "    \"sirdata_naheed_vai/core_naive_nbr_\" + dataset + \"_h0_\" + str(num_delete) + \".csv\")\n"
   ]
  },
  {
   "cell_type": "code",
   "execution_count": 19,
   "metadata": {},
   "outputs": [],
   "source": [
    "import random\n",
    "potential_seeds = []\n",
    "for c in distinct_core_nbr:\n",
    "    # apply shuffling\n",
    "    shuffled_nodes = core_nbr[c].copy()\n",
    "    random.shuffle(shuffled_nodes)\n",
    "    for node in shuffled_nodes:\n",
    "        if(node in common_nodes):\n",
    "            potential_seeds.append(node)\n",
    "\n"
   ]
  },
  {
   "cell_type": "code",
   "execution_count": 32,
   "metadata": {},
   "outputs": [],
   "source": [
    "assert len(potential_seeds) == len(common_nodes)"
   ]
  },
  {
   "cell_type": "code",
   "execution_count": 28,
   "metadata": {},
   "outputs": [],
   "source": [
    "assert potential_seeds[0] not in core_nbr[distinct_core_nbr[0]]"
   ]
  },
  {
   "cell_type": "code",
   "execution_count": 33,
   "metadata": {},
   "outputs": [],
   "source": [
    "import pickle\n",
    "filename = \"sirdata/potential_seeds_\" + dataset + \".pkl\"\n",
    "with open(filename, \"wb\") as handle:\n",
    "    pickle.dump(potential_seeds, handle)"
   ]
  },
  {
   "cell_type": "code",
   "execution_count": null,
   "metadata": {},
   "outputs": [],
   "source": []
  }
 ],
 "metadata": {
  "kernelspec": {
   "display_name": "Python 3.8.3 ('base')",
   "language": "python",
   "name": "python3"
  },
  "language_info": {
   "codemirror_mode": {
    "name": "ipython",
    "version": 3
   },
   "file_extension": ".py",
   "mimetype": "text/x-python",
   "name": "python",
   "nbconvert_exporter": "python",
   "pygments_lexer": "ipython3",
   "version": "3.8.3"
  },
  "orig_nbformat": 4,
  "vscode": {
   "interpreter": {
    "hash": "aff7118c20e07ed9fb612d208aa40ec32e694bdf8c4eda70182d9aa82faa566c"
   }
  }
 },
 "nbformat": 4,
 "nbformat_minor": 2
}
